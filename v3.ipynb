{
 "cells": [
  {
   "cell_type": "code",
   "execution_count": null,
   "metadata": {},
   "outputs": [],
   "source": [
    "import numpy as np\n",
    "from numpy import cos, pi\n",
    "import scipy.io.wavfile as sf\n",
    "import IPython\n",
    "import matplotlib.pyplot as plt\n",
    "from copy import copy"
   ]
  },
  {
   "cell_type": "code",
   "execution_count": null,
   "metadata": {},
   "outputs": [],
   "source": [
    "def write_file(data: np.ndarray, file_name: str):\n",
    "    bits = bytearray()\n",
    "    for i in range(0, len(data), 8):\n",
    "        bits.append(int(data[i:i+8], 2))\n",
    "\n",
    "    with open(file_name, 'bw') as f:\n",
    "        f.write(bits)"
   ]
  },
  {
   "cell_type": "code",
   "execution_count": null,
   "metadata": {},
   "outputs": [],
   "source": [
    "def read_file(file_name: str):\n",
    "    with open(file_name, 'rb') as f:\n",
    "        data = f.read()\n",
    "    return (bin(int.from_bytes(data, byteorder='big')).replace('0b', ''))"
   ]
  },
  {
   "cell_type": "code",
   "execution_count": null,
   "metadata": {},
   "outputs": [],
   "source": [
    "def encoder(data: np.ndarray, bits_level: int, max_error):\n",
    "    data /= max_error\n",
    "    levels = np.linspace(-1,1,2**bits_level)\n",
    "    output = \"1\"\n",
    "    for sample in data:\n",
    "        val = np.abs(levels - sample).argmin()\n",
    "        output += f'b{val:16b}'[2:].replace(' ', '0')[-bits_level:]\n",
    "    while len(output) % 16 != 0:\n",
    "        output += '0'\n",
    "    return output"
   ]
  },
  {
   "cell_type": "code",
   "execution_count": null,
   "metadata": {},
   "outputs": [],
   "source": [
    "def decoder(data: str, bits_level: int, num: int, max_error):\n",
    "    levels = np.linspace(-1, 1, 2**bits_level)\n",
    "    ros = '0' * (bits_level-2)2)\n",
    "    result = []\n",
    "    for i in range(num):\n",
    "        binary = zeros + data[i*bits_level+1:(i+1)*bits_level+1]\n",
    "        number = int(binary, 2)\n",
    "        result.append(levels[number])\n",
    "    result = np.array(result) * max_error\n",
    "    return result# "
   ]
  },
  {
   "cell_type": "code",
   "execution_count": null,
   "metadata": {},
   "outputs": [],
   "source": [
    "def levinson(seg: list, samples_ammount: int, ar_rank: int):\n",
    "    \"\"\"Levinson-Durbin algorithm\n",
    "\n",
    "    Args:\n",
    "        seg (list): Data Segment\n",
    "        samples_ammount (int): Number of samples in segment\n",
    "        ar_rank (int): AR rank\n",
    "\n",
    "    Returns:\n",
    "        k (list): Reflection coeeficients\n",
    "    \"\"\"\n",
    "    # Calculate autocorrelation coefficients\n",
    "    p = np.zeros(ar_rank+1)\n",
    "    for i in range(ar_rank+1):\n",
    "        for t in range(i, samples_ammount):\n",
    "            p[i] = p[i] + seg[t] * seg[t-i]\n",
    "    \n",
    "    # Solving Yole-Walker equations\n",
    "    a = np.zeros((ar_rank, ar_rank))\n",
    "    sigma = np.zeros(11)\n",
    "    k = np.zeros(10)\n",
    "    sigma[0] = p[0]\n",
    "    k[0] = p[1]/p[0]\n",
    "    a[0,0] = k[0]\n",
    "    sigma[1] = (1-k[0]**2)*sigma[0]\n",
    "    for i in range(1, ar_rank):\n",
    "        x = 0\n",
    "        for j in range(0, i):\n",
    "            x = x + a[j,i-1]*p[i-j]\n",
    "        k[i] = (p[i+1]-x)/sigma[i]\n",
    "        a[i,i] = k[i]\n",
    "        for j in range(0, i):\n",
    "            a[j,i] = a[j, i-1] - k[i]*a[i-j-1, i-1]\n",
    "        sigma[i+1] = (1-k[i]**2) * sigma[i]\n",
    "    \n",
    "    return k"
   ]
  },
  {
   "cell_type": "code",
   "execution_count": null,
   "metadata": {},
   "outputs": [],
   "source": [
    "def play_sound(sound, rate=11025):\n",
    "    return  IPython.display.display(IPython.display.Audio(sound, rate=rate))\n",
    "# Read wave file\n",
    "zeros_vector = sf.read(\"data/01.wav\")\n",
    "input_arr = np.array(zeros_vector[1], dtype=float)\n",
    "input_arr = input_arr / 65536\n",
    "input_arr = np.concatenate((input_arr, np.zeros(13)))\n",
    "play_sound(zeros_vector[1])"
   ]
  },
  {
   "cell_type": "code",
   "execution_count": null,
   "metadata": {},
   "outputs": [],
   "source": [
    "# Ploting track with specgram\n",
    "plt.figure(figsize=(12,6))\n",
    "\n",
    "plt.subplot(2, 1, 1)\n",
    "plt.plot(zeros_vector[1])\n",
    "\n",
    "plt.subplot(2, 1, 2)\n",
    "plt.specgram(zeros_vector[1], NFFT=1024, Fs=zeros_vector[0])\n",
    "\n",
    "plt.show()"
   ]
  },
  {
   "cell_type": "code",
   "execution_count": null,
   "metadata": {},
   "outputs": [],
   "source": [
    "# Weight for flattening edges\n",
    "def weight(k: np.ndarray):\n",
    "    weight = 0.5*(1-cos(2*pi*k/(257)))\n",
    "    weight = np.roll(weight, -1)\n",
    "    return weight"
   ]
  },
  {
   "cell_type": "code",
   "execution_count": null,
   "metadata": {},
   "outputs": [],
   "source": [
    "samples_ammount=256\n",
    "ar_rank=10"
   ]
  },
  {
   "cell_type": "code",
   "execution_count": null,
   "metadata": {},
   "outputs": [],
   "source": [
    "# Transmitter\n",
    "\n",
    "t = np.arange(samples_ammount)\n",
    "segment_id = 0\n",
    "\n",
    "residual_errors = np.zeros((len(input_arr) // samples_ammount) * samples_ammount+1)\n",
    "max_residual_errors = np.zeros(len(input_arr) // samples_ammount)\n",
    "ar_coefficients = np.zeros((len(input_arr) // samples_ammount+1) * ar_rank)\n",
    "\n",
    "while t[-1] < len(input_arr):\n",
    "        segment_id += 1\n",
    "\n",
    "        signal = input_arr[t]\n",
    "        weighted_signal = signal * weight(np.arange(samples_ammount))\n",
    "        weighted_signal_with_zeros = np.concatenate((np.zeros(ar_rank), weighted_signal, np.zeros(ar_rank)))\n",
    "\n",
    "        signal_error = np.zeros(samples_ammount)\n",
    "\n",
    "        zeros_vector = np.zeros(ar_rank)\n",
    "        correlation_matrix =  np.correlate(signal, signal, mode='full')\n",
    "        correlation_matrix = correlation_matrix[0:256]\n",
    "\n",
    "        ld_result = levinson(weighted_signal_with_zeros, samples_ammount, ar_rank)\n",
    "        \n",
    "        if segment_id == 1:\n",
    "            signal = np.concatenate((np.zeros(ar_rank), signal))\n",
    "        else:\n",
    "            signal = np.concatenate((input_arr[t[0]-ar_rank:t[0]], signal))\n",
    "\n",
    "        for i in range(samples_ammount):\n",
    "            signal_error[i] = signal[i+ar_rank] + np.sum(signal[i:i+ar_rank][::-1] * zeros_vector)\n",
    "        residual_errors[t] = signal_error\n",
    "\n",
    "        signal_max_error = max(abs(signal_error))\n",
    "        max_residual_errors[segment_id-1] = signal_max_error\n",
    "        ar_coefficients[(segment_id-1)*ar_rank:segment_id*ar_rank] = zeros_vector\n",
    "\n",
    "        t = t + samples_ammount"
   ]
  },
  {
   "cell_type": "code",
   "execution_count": null,
   "metadata": {},
   "outputs": [],
   "source": [
    "# Receiver\n",
    "def receiver(coefficients, max_errors, errors):\n",
    "    number_of_segments = len(max_errors)\n",
    "    reconstructed_signal = np.zeros(ar_rank + number_of_segments*samples_ammount + 1)\n",
    "\n",
    "    for i in range(number_of_segments):\n",
    "        sample_index = ar_rank + i * samples_ammount\n",
    "        segment_signal = np.zeros(samples_ammount)\n",
    "        binary_ar_coefficients = coefficients[i*ar_rank:(i+1)*ar_rank]\n",
    "        for j in range(samples_ammount):\n",
    "            next_sample_index = sample_index + j\n",
    "            segment_signal[j] = -np.sum(reconstructed_signal[next_sample_index-ar_rank:next_sample_index][::-1] * binary_ar_coefficients) + errors[i * samples_ammount + j]\n",
    "        reconstructed_signal[sample_index:sample_index+samples_ammount] = segment_signal\n",
    "\n",
    "    sf.write('Zrekonstruowane_nagranie.wav', rate=11025, data=reconstructed_signal)\n",
    "    return reconstructed_signal\n"
   ]
  },
  {
   "cell_type": "code",
   "execution_count": null,
   "metadata": {},
   "outputs": [],
   "source": [
    "fig, ax = plt.subplots(figsize=(14, 6))\n",
    "ax.plot(input_arr)\n",
    "ax.plot(receiver(ar_coefficients, max_residual_errors, residual_errors))\n",
    "plt.xlabel('Numer próbki')\n",
    "plt.show()"
   ]
  },
  {
   "cell_type": "code",
   "execution_count": null,
   "metadata": {},
   "outputs": [],
   "source": [
    "bits_level = 16\n",
    "\n",
    "# Save e_max to .bin\n",
    "binary_max_errors = encoder(max_residual_errors, bits_level, max(abs(max_residual_errors)))\n",
    "write_file(binary_max_errors, f'e_max_{bits_level}.bin')\n",
    "\n",
    "# Save coefficients to .bin\n",
    "binary_ar_coefficients = encoder(ar_coefficients, bits_level, max(abs(ar_coefficients)))\n",
    "write_file(binary_ar_coefficients, f'coeffs_{bits_level}.bin')\n",
    "\n",
    "# Save errors to .bin\n",
    "binary_residual_errors = \"\"\n",
    "for i in range(len(max_residual_errors)):\n",
    "    binary_residual_errors += encoder(residual_errors[i*samples_ammount:(i+1)*samples_ammount], bits_level, max_residual_errors[i])\n",
    "write_file(binary_residual_errors, f'error_{bits_level}.bin')\n"
   ]
  },
  {
   "cell_type": "code",
   "execution_count": null,
   "metadata": {},
   "outputs": [],
   "source": [
    "# Read e_max from  .bin\n",
    "bin_read_max_errors = read_file(f'e_max_{bits_level}.bin')\n",
    "bin_max_errors = decoder(bin_read_max_errors[0:len(max_residual_errors)*bits_level+bits_level], bits_level, len(max_residual_errors), max(abs(max_residual_errors)))\n",
    "\n",
    "# Read coefficients from .bin\n",
    "bin_read_coeff = read_file(f'coeffs_{bits_level}.bin')\n",
    "bin_coefficients = decoder(bin_read_coeff[0:len(ar_coefficients)*bits_level+bits_level], bits_level, len(ar_coefficients), max(abs(max_residual_errors)))\n",
    "\n",
    "# Read errors from .bin\n",
    "bin_read_errors = read_file(f'error_{bits_level}.bin')\n",
    "bin_errors = np.array([])\n",
    "gap = 0\n",
    "for i in range(len(max_residual_errors)):\n",
    "    bin_errors = np.append(bin_errors, decoder(bin_read_errors[i*samples_ammount*bits_level+gap+bits_level], bits_level, samples_ammount, max_residual_errors[i]))\n",
    "    gap += bits_level"
   ]
  },
  {
   "cell_type": "code",
   "execution_count": null,
   "metadata": {},
   "outputs": [],
   "source": [
    "fig, ax = plt.subplots(figsize=(14, 6))\n",
    "ax.plot(input_arr)\n",
    "ax.plot(receiver(bin_coefficients, bin_max_errors, bin_errors))\n",
    "plt.xlabel('Numer próbki')\n",
    "plt.show()"
   ]
  }
 ],
 "metadata": {
  "kernelspec": {
   "display_name": ".venv",
   "language": "python",
   "name": "python3"
  },
  "language_info": {
   "codemirror_mode": {
    "name": "ipython",
    "version": 3
   },
   "file_extension": ".py",
   "mimetype": "text/x-python",
   "name": "python",
   "nbconvert_exporter": "python",
   "pygments_lexer": "ipython3",
   "version": "3.11.3"
  },
  "orig_nbformat": 4
 },
 "nbformat": 4,
 "nbformat_minor": 2
}
